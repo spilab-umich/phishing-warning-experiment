{
 "cells": [
  {
   "cell_type": "markdown",
   "metadata": {},
   "source": [
    "## Read in the data"
   ]
  },
  {
   "cell_type": "code",
   "execution_count": 67,
   "metadata": {},
   "outputs": [],
   "source": [
    "# Import libraries\n",
    "import pandas as pd, random as rd, numpy as np\n",
    "import math\n",
    "from IPython.display import clear_output, Image, display"
   ]
  },
  {
   "cell_type": "code",
   "execution_count": 68,
   "metadata": {},
   "outputs": [],
   "source": [
    "#Skip the header row\n",
    "qual_fname = '../final_data/cleaned_qual_Final.csv'\n",
    "cleaned_qual = pd.read_csv(qual_fname, sep=',', encoding = \"ISO-8859-1\")"
   ]
  },
  {
   "cell_type": "code",
   "execution_count": 69,
   "metadata": {},
   "outputs": [],
   "source": [
    "# cleaned_qual = cleaned_qual[2:]"
   ]
  },
  {
   "cell_type": "code",
   "execution_count": 70,
   "metadata": {},
   "outputs": [
    {
     "data": {
      "text/plain": [
       "701"
      ]
     },
     "execution_count": 70,
     "metadata": {},
     "output_type": "execute_result"
    }
   ],
   "source": [
    "len(cleaned_qual.username.unique())"
   ]
  },
  {
   "cell_type": "code",
   "execution_count": 71,
   "metadata": {},
   "outputs": [
    {
     "data": {
      "text/plain": [
       "condition_group\n",
       "0    100\n",
       "1    103\n",
       "2     98\n",
       "3    101\n",
       "4    100\n",
       "5    100\n",
       "6     99\n",
       "Name: username, dtype: int64"
      ]
     },
     "execution_count": 71,
     "metadata": {},
     "output_type": "execute_result"
    }
   ],
   "source": [
    "cleaned_qual.groupby(\"condition_group\")[\"username\"].count()"
   ]
  },
  {
   "cell_type": "code",
   "execution_count": 72,
   "metadata": {},
   "outputs": [],
   "source": [
    "temp = cleaned_qual.loc[cleaned_qual.condition_group == 1,\"username\"] # Grab condition group == 1 subset of data\n",
    "drop_index = np.random.choice(temp.index, 1, replace=False)[0] # Select the index of a username to drop"
   ]
  },
  {
   "cell_type": "code",
   "execution_count": 73,
   "metadata": {},
   "outputs": [
    {
     "name": "stdout",
     "output_type": "stream",
     "text": [
      "Dropped username was: username1412\n"
     ]
    }
   ],
   "source": [
    "print(\"Dropped username was: {}\".format(cleaned_qual.iloc[drop_index][\"username\"]))\n",
    "# Dropped username1412"
   ]
  },
  {
   "cell_type": "code",
   "execution_count": 74,
   "metadata": {},
   "outputs": [],
   "source": [
    "cleaned_qual = cleaned_qual.drop(drop_index) # Drop the selected username"
   ]
  },
  {
   "cell_type": "code",
   "execution_count": 75,
   "metadata": {},
   "outputs": [
    {
     "data": {
      "text/plain": [
       "700"
      ]
     },
     "execution_count": 75,
     "metadata": {},
     "output_type": "execute_result"
    }
   ],
   "source": [
    "len(cleaned_qual) # Confirm length"
   ]
  },
  {
   "cell_type": "markdown",
   "metadata": {},
   "source": [
    "## Cybersecurity Quiz Recoding"
   ]
  },
  {
   "cell_type": "code",
   "execution_count": 76,
   "metadata": {},
   "outputs": [],
   "source": [
    "# Calculate scores for cybersecurity questions individually\n",
    "cleaned_qual['url_result'] = np.where(cleaned_qual['CK_URL']=='That information entered into the site is encrypted',1,0)\n",
    "cleaned_qual['phishing_result'] = np.where((cleaned_qual['CK_phishing']=='All of the above') |\n",
    "                                           (cleaned_qual['CK_phishing']=='Sending someone an email that contains a malicious link that is disguised to look like an email from someone the person knows,Creating a fake website that looks nearly identical to a real website, in order to trick users into entering their login information,Sending someone a text message that contains a malicious link that is disguised to look like  a notification that the person has won a contest,All of the above') |  \n",
    "                                           (cleaned_qual['CK_phishing']=='Sending someone an email that contains a malicious link that is disguised to look like an email from someone the person knows,Creating a fake website that looks nearly identical to a real website, in order to trick users into entering their login information,Sending someone a text message that contains a malicious link that is disguised to look like  a notification that the person has won a contest'),1,0)\n",
    "cleaned_qual['botnet_result'] = np.where(cleaned_qual['CK_botnet']=='Botnet',1,0)\n",
    "cleaned_qual['wifi_result'] = np.where(cleaned_qual['CK_wifi_encryption']=='False',1,0)\n",
    "cleaned_qual['twostep_result'] = np.where(cleaned_qual['CK_two_step']=='Click to select Picture 1',1,0)\n",
    "cleaned_qual['password_result'] = np.where(cleaned_qual['CK_password']=='WTh!5Z',1,0)\n",
    "cleaned_qual['ransomware_result'] = np.where(cleaned_qual['CK_ransomware']=='Ransomware',1,0)\n",
    "cleaned_qual['browsing_result'] = np.where(cleaned_qual['CK_browsing']=='Yes',1,0)\n",
    "cleaned_qual['gps_result'] = np.where(cleaned_qual['CK_GPS']=='False',1,0)\n",
    "cleaned_qual['email_result'] = np.where(cleaned_qual['CK_email_ecryption']=='False',1,0)\n",
    "cleaned_qual['report_result'] = np.where(cleaned_qual['CK_report']=='One',1,0)\n",
    "cleaned_qual['safety_result'] = np.where(cleaned_qual['CK_wifi_safety']=='No, it is not safe',1,0)\n",
    "cleaned_qual['vpn_result'] = np.where(cleaned_qual['CK_VPN']=='Use of insecure wi-fi networks',1,0)"
   ]
  },
  {
   "cell_type": "code",
   "execution_count": 77,
   "metadata": {},
   "outputs": [],
   "source": [
    "#Now calculate the aggregated score of cybersecurity quiz\n",
    "#Get the index of first and last column, sum up the scores of all columns between\n",
    "cleaned_qual['cyber_quiz_score']= cleaned_qual.iloc[:, cleaned_qual.columns.get_loc('url_result'):(cleaned_qual.columns.get_loc('vpn_result')+1)].sum(axis=1)"
   ]
  },
  {
   "cell_type": "code",
   "execution_count": 78,
   "metadata": {},
   "outputs": [],
   "source": [
    "#Check cybersecurity scores\n",
    "#cleaned_qual['cyber_quiz_score']"
   ]
  },
  {
   "cell_type": "markdown",
   "metadata": {},
   "source": [
    "## Previous Experience Recoding"
   ]
  },
  {
   "cell_type": "code",
   "execution_count": 79,
   "metadata": {},
   "outputs": [],
   "source": [
    "#Next we move to the calculation of previous phishing experience\n",
    "#Recode yes or no to 1/0, keep NA values\n",
    "cleaned_qual = cleaned_qual.replace({\n",
    "                'Yes': 1,\n",
    "                'No': 0,\n",
    "                'Prefer not to answer': 0\n",
    "            })\n",
    "#Add up eight items to get an aggregated score\n",
    "cleaned_qual['PE_score']= cleaned_qual.iloc[:, cleaned_qual.columns.get_loc('PE_1'):(cleaned_qual.columns.get_loc('PE_8')+1)].sum(axis=1)"
   ]
  },
  {
   "cell_type": "code",
   "execution_count": 80,
   "metadata": {},
   "outputs": [],
   "source": [
    "#Check the previous experience score\n",
    "#cleaned_qual['PE_score']"
   ]
  },
  {
   "cell_type": "markdown",
   "metadata": {},
   "source": [
    "## Brand Usage Recoding"
   ]
  },
  {
   "cell_type": "code",
   "execution_count": 81,
   "metadata": {},
   "outputs": [],
   "source": [
    "#Now moving to the brand usage questions\n",
    "#First rename the columns to make the headers more descriptive\n",
    "cleaned_qual = cleaned_qual.rename(columns={'Q186': 'venmo_freq', 'Q119': 'chase_freq', 'Q120': 'yahoo_freq'})\n",
    "#Recode values\n",
    "cleaned_qual = cleaned_qual.replace({\n",
    "                'Less than once a month': 1,\n",
    "                'Once a month': 2,\n",
    "                'Several times a month': 3,\n",
    "                'Once a week': 4,\n",
    "                'Several times a week': 5,\n",
    "                'Daily': 6,\n",
    "                \"I'm not sure\": 0\n",
    "            })\n",
    "#Fill NA values with 0\n",
    "cleaned_qual.fillna({'venmo_freq':0, 'chase_freq':0, 'yahoo_freq':0}, inplace=True)"
   ]
  },
  {
   "cell_type": "code",
   "execution_count": 82,
   "metadata": {},
   "outputs": [],
   "source": [
    "#Recalculate the brand usage score, using the original value minus mean\n",
    "cleaned_qual['venmo_normalized'] = cleaned_qual['venmo_freq'] - cleaned_qual['venmo_freq'].mean()\n",
    "cleaned_qual['chase_normalized'] = cleaned_qual['chase_freq'] - cleaned_qual['chase_freq'].mean()\n",
    "cleaned_qual['yahoo_normalized'] = cleaned_qual['yahoo_freq'] - cleaned_qual['yahoo_freq'].mean()"
   ]
  },
  {
   "cell_type": "code",
   "execution_count": 83,
   "metadata": {},
   "outputs": [],
   "source": [
    "# #Compute the mean value of brand usage score for those who use any one of the three brands\n",
    "# venmo_mean = cleaned_qual.loc[cleaned_qual['venmo_freq'] > 0]['venmo_freq'].mean()\n",
    "# chase_mean = cleaned_qual.loc[cleaned_qual['chase_freq'] > 0]['chase_freq'].mean()\n",
    "# yahoo_mean = cleaned_qual.loc[cleaned_qual['yahoo_freq'] > 0]['yahoo_freq'].mean()\n",
    "# #Create three new columns to record the final score\n",
    "# cleaned_qual['venmo_final'] = cleaned_qual['venmo_freq']\n",
    "# cleaned_qual['chase_final'] = cleaned_qual['chase_freq']\n",
    "# cleaned_qual['yahoo_final'] = cleaned_qual['yahoo_freq']\n",
    "# #For users of the brand, their final score of brand usage would be the original value minus the mean value\n",
    "# cleaned_qual.loc[cleaned_qual['venmo_freq'] > 0,'venmo_final'] = cleaned_qual['venmo_freq'] - venmo_mean\n",
    "# cleaned_qual.loc[cleaned_qual['chase_freq'] > 0,'chase_final'] = cleaned_qual['chase_freq'] - chase_mean\n",
    "# cleaned_qual.loc[cleaned_qual['yahoo_freq'] > 0,'yahoo_final'] = cleaned_qual['yahoo_freq'] - yahoo_mean"
   ]
  },
  {
   "cell_type": "code",
   "execution_count": 84,
   "metadata": {},
   "outputs": [],
   "source": [
    "# cleaned_qual['chase_final']"
   ]
  },
  {
   "cell_type": "markdown",
   "metadata": {},
   "source": [
    "# Select certain columns of survey data to merge"
   ]
  },
  {
   "cell_type": "code",
   "execution_count": 85,
   "metadata": {
    "scrolled": false
   },
   "outputs": [
    {
     "data": {
      "text/plain": [
       "['10_EQ-title',\n",
       " '10_Q51',\n",
       " '10_Q51_6_TEXT',\n",
       " '10_Q52',\n",
       " '10_Q56_Click Count',\n",
       " '10_Q56_First Click',\n",
       " '10_Q56_Last Click',\n",
       " '10_Q56_Page Submit',\n",
       " '1_EQ-title',\n",
       " '1_Q51',\n",
       " '1_Q51_6_TEXT',\n",
       " '1_Q52',\n",
       " '1_Q56_Click Count',\n",
       " '1_Q56_First Click',\n",
       " '1_Q56_Last Click',\n",
       " '1_Q56_Page Submit',\n",
       " '2_EQ-title',\n",
       " '2_Q51',\n",
       " '2_Q51_6_TEXT',\n",
       " '2_Q52',\n",
       " '2_Q56_Click Count',\n",
       " '2_Q56_First Click',\n",
       " '2_Q56_Last Click',\n",
       " '2_Q56_Page Submit',\n",
       " '3_EQ-title',\n",
       " '3_Q51',\n",
       " '3_Q51_6_TEXT',\n",
       " '3_Q52',\n",
       " '3_Q56_Click Count',\n",
       " '3_Q56_First Click',\n",
       " '3_Q56_Last Click',\n",
       " '3_Q56_Page Submit',\n",
       " '4_EQ-title',\n",
       " '4_EQ-title - Sentiment',\n",
       " '4_EQ-title - Sentiment Polarity',\n",
       " '4_EQ-title - Sentiment Score',\n",
       " '4_EQ-title - Topics',\n",
       " '4_Q51',\n",
       " '4_Q51_6_TEXT',\n",
       " '4_Q52',\n",
       " '4_Q56_Click Count',\n",
       " '4_Q56_First Click',\n",
       " '4_Q56_Last Click',\n",
       " '4_Q56_Page Submit',\n",
       " '5_EQ-title',\n",
       " '5_Q51',\n",
       " '5_Q51_6_TEXT',\n",
       " '5_Q52',\n",
       " '5_Q56_Click Count',\n",
       " '5_Q56_First Click',\n",
       " '5_Q56_Last Click',\n",
       " '5_Q56_Page Submit',\n",
       " '6_EQ-title',\n",
       " '6_Q51',\n",
       " '6_Q51_6_TEXT',\n",
       " '6_Q52',\n",
       " '6_Q56_Click Count',\n",
       " '6_Q56_First Click',\n",
       " '6_Q56_Last Click',\n",
       " '6_Q56_Page Submit',\n",
       " '7_EQ-title',\n",
       " '7_Q51',\n",
       " '7_Q51_6_TEXT',\n",
       " '7_Q52',\n",
       " '7_Q56_Click Count',\n",
       " '7_Q56_First Click',\n",
       " '7_Q56_Last Click',\n",
       " '7_Q56_Page Submit',\n",
       " '8_EQ-title',\n",
       " '8_Q51',\n",
       " '8_Q51_6_TEXT',\n",
       " '8_Q52',\n",
       " '8_Q56_Click Count',\n",
       " '8_Q56_First Click',\n",
       " '8_Q56_Last Click',\n",
       " '8_Q56_Page Submit',\n",
       " '9_EQ-title',\n",
       " '9_Q51',\n",
       " '9_Q51_6_TEXT',\n",
       " '9_Q52',\n",
       " '9_Q56_Click Count',\n",
       " '9_Q56_First Click',\n",
       " '9_Q56_Last Click',\n",
       " '9_Q56_Page Submit',\n",
       " 'CK_GPS',\n",
       " 'CK_URL',\n",
       " 'CK_VPN',\n",
       " 'CK_botnet',\n",
       " 'CK_browsing',\n",
       " 'CK_email_ecryption',\n",
       " 'CK_password',\n",
       " 'CK_phishing',\n",
       " 'CK_ransomware',\n",
       " 'CK_report',\n",
       " 'CK_two_step',\n",
       " 'CK_wifi_encryption',\n",
       " 'CK_wifi_safety',\n",
       " 'COMPEXP',\n",
       " 'DQ_Age',\n",
       " 'DQ_Educ',\n",
       " 'DQ_Gender',\n",
       " 'DQ_Gender_4_TEXT',\n",
       " 'DQ_Occ',\n",
       " 'DQ_Occ_35_TEXT',\n",
       " 'DistributionChannel',\n",
       " 'Duration (in seconds)',\n",
       " 'ES_Interaction',\n",
       " 'ES_Suspicious',\n",
       " 'ES_Suspicious_5_TEXT',\n",
       " 'ES_WRecall',\n",
       " 'ES_annoyence',\n",
       " 'ES_annoyingreasons',\n",
       " 'ES_helpful',\n",
       " 'ES_interactionreason',\n",
       " 'EndDate',\n",
       " 'ExternalReference',\n",
       " 'Finished',\n",
       " 'IPAddress',\n",
       " 'Instructions',\n",
       " 'LocationLatitude',\n",
       " 'LocationLongitude',\n",
       " 'MID',\n",
       " 'Meta-info_Browser',\n",
       " 'Meta-info_Operating System',\n",
       " 'Meta-info_Resolution',\n",
       " 'Meta-info_Version',\n",
       " 'PE_1',\n",
       " 'PE_2',\n",
       " 'PE_3',\n",
       " 'PE_4',\n",
       " 'PE_5',\n",
       " 'PE_6',\n",
       " 'PE_7',\n",
       " 'PE_8',\n",
       " 'Progress',\n",
       " 'chase_freq',\n",
       " 'yahoo_freq',\n",
       " 'Q122',\n",
       " 'Q130',\n",
       " 'Q131',\n",
       " 'Q132',\n",
       " 'Q133',\n",
       " 'Q134',\n",
       " 'Q135_Click Count',\n",
       " 'Q135_First Click',\n",
       " 'Q135_Last Click',\n",
       " 'Q135_Page Submit',\n",
       " 'Q136_Click Count',\n",
       " 'Q136_First Click',\n",
       " 'Q136_Last Click',\n",
       " 'Q136_Page Submit',\n",
       " 'venmo_freq',\n",
       " 'Q47',\n",
       " 'Q57_Click Count',\n",
       " 'Q57_First Click',\n",
       " 'Q57_Last Click',\n",
       " 'Q57_Page Submit',\n",
       " 'Q58_Click Count',\n",
       " 'Q58_First Click',\n",
       " 'Q58_Last Click',\n",
       " 'Q58_Page Submit',\n",
       " 'Q61_Click Count',\n",
       " 'Q61_First Click',\n",
       " 'Q61_Last Click',\n",
       " 'Q61_Page Submit',\n",
       " 'RecipientEmail',\n",
       " 'RecipientFirstName',\n",
       " 'RecipientLastName',\n",
       " 'RecordedDate',\n",
       " 'ResponseID',\n",
       " 'ResponseId',\n",
       " 'ResponseId.1',\n",
       " 'StartDate',\n",
       " 'Status',\n",
       " 'Unnamed: 0',\n",
       " 'UserLanguage',\n",
       " 'batch',\n",
       " 'condition_group',\n",
       " 'password',\n",
       " 'reward_code',\n",
       " 'username',\n",
       " 'url_result',\n",
       " 'phishing_result',\n",
       " 'botnet_result',\n",
       " 'wifi_result',\n",
       " 'twostep_result',\n",
       " 'password_result',\n",
       " 'ransomware_result',\n",
       " 'browsing_result',\n",
       " 'gps_result',\n",
       " 'email_result',\n",
       " 'report_result',\n",
       " 'safety_result',\n",
       " 'vpn_result',\n",
       " 'cyber_quiz_score',\n",
       " 'PE_score',\n",
       " 'venmo_normalized',\n",
       " 'chase_normalized',\n",
       " 'yahoo_normalized']"
      ]
     },
     "execution_count": 85,
     "metadata": {},
     "output_type": "execute_result"
    }
   ],
   "source": [
    "#Print out all column names, so we know which ones to select\n",
    "cleaned_qual.columns.values.tolist()"
   ]
  },
  {
   "cell_type": "code",
   "execution_count": 86,
   "metadata": {},
   "outputs": [],
   "source": [
    "#Keep username and MID as participant ID, cybersecurity quiz score, previous experience score, recalculated brand usage scores\n",
    "#Also include demographic information (gender, age, education, occupation)\n",
    "cleaned_qual_selected = cleaned_qual[['MID','username','cyber_quiz_score','PE_score','venmo_freq','chase_freq','yahoo_freq','venmo_normalized','chase_normalized','yahoo_normalized','DQ_Gender','DQ_Age','DQ_Educ','DQ_Occ']]"
   ]
  },
  {
   "cell_type": "markdown",
   "metadata": {},
   "source": [
    "# Join the dataframe with log data"
   ]
  },
  {
   "cell_type": "code",
   "execution_count": 87,
   "metadata": {},
   "outputs": [],
   "source": [
    "#Write the aggregated survey data into a csv file\n",
    "#cleaned_qual_selected.to_csv('qual_agg_data.csv', sep=',', index=False)"
   ]
  },
  {
   "cell_type": "code",
   "execution_count": 88,
   "metadata": {},
   "outputs": [],
   "source": [
    "#Read the log summary file\n",
    "log_fname_master = '../final_data/cleaned_agg_log_Final.csv'\n",
    "cleaned_log_master = pd.read_csv(log_fname_master, sep=',')\n",
    "log_fname_adjusted = '../final_data/cleaned_agg_log_link_adjusted_final.csv'\n",
    "cleaned_log_adjusted = pd.read_csv(log_fname_adjusted, sep=',')"
   ]
  },
  {
   "cell_type": "code",
   "execution_count": 89,
   "metadata": {},
   "outputs": [],
   "source": [
    "#Merge the two dataframes together\n",
    "cleaned_merge_master = pd.merge(cleaned_qual_selected, cleaned_log_master, on='username')\n",
    "cleaned_merge_adjusted = pd.merge(cleaned_qual_selected, cleaned_log_adjusted, on='username')"
   ]
  },
  {
   "cell_type": "markdown",
   "metadata": {},
   "source": [
    "# Calculate Brand Usage Score"
   ]
  },
  {
   "cell_type": "code",
   "execution_count": 90,
   "metadata": {},
   "outputs": [],
   "source": [
    "#Create a function that operates on the value of \"email_sender\"\n",
    "def f(row):\n",
    "    if row['email_sender'] == \"chase\":\n",
    "        val = row['chase_normalized']\n",
    "    elif row['email_sender'] == \"venmo\":\n",
    "        val = row['venmo_normalized']\n",
    "    elif row['email_sender'] == \"yahoo\":\n",
    "        val = row['yahoo_normalized']\n",
    "    else:\n",
    "        val = 0\n",
    "    return val"
   ]
  },
  {
   "cell_type": "code",
   "execution_count": 91,
   "metadata": {},
   "outputs": [],
   "source": [
    "#Apply it to the dataframe's new column \"brand_usage\"\n",
    "cleaned_merge_master['brand_usage'] = cleaned_merge_master.apply(f, axis=1)\n",
    "cleaned_merge_adjusted['brand_usage'] = cleaned_merge_adjusted.apply(f, axis=1)"
   ]
  },
  {
   "cell_type": "code",
   "execution_count": 92,
   "metadata": {},
   "outputs": [],
   "source": [
    "#Write the joint dataframe into a csv file\n",
    "cleaned_merge_master.to_csv('data_master.csv', sep=',', index=False)\n",
    "cleaned_merge_adjusted.to_csv('data_adjusted.csv', sep=',', index=False)"
   ]
  },
  {
   "cell_type": "code",
   "execution_count": 93,
   "metadata": {},
   "outputs": [
    {
     "data": {
      "text/plain": [
       "700"
      ]
     },
     "execution_count": 93,
     "metadata": {},
     "output_type": "execute_result"
    }
   ],
   "source": [
    "len(cleaned_merge_master.username.unique())"
   ]
  },
  {
   "cell_type": "code",
   "execution_count": 94,
   "metadata": {},
   "outputs": [
    {
     "data": {
      "text/plain": [
       "700"
      ]
     },
     "execution_count": 94,
     "metadata": {},
     "output_type": "execute_result"
    }
   ],
   "source": [
    "len(cleaned_merge_adjusted.username.unique())"
   ]
  },
  {
   "cell_type": "code",
   "execution_count": null,
   "metadata": {},
   "outputs": [],
   "source": []
  },
  {
   "cell_type": "code",
   "execution_count": null,
   "metadata": {},
   "outputs": [],
   "source": []
  }
 ],
 "metadata": {
  "anaconda-cloud": {},
  "kernelspec": {
   "display_name": "Python 3",
   "language": "python",
   "name": "python3"
  },
  "language_info": {
   "codemirror_mode": {
    "name": "ipython",
    "version": 3
   },
   "file_extension": ".py",
   "mimetype": "text/x-python",
   "name": "python",
   "nbconvert_exporter": "python",
   "pygments_lexer": "ipython3",
   "version": "3.6.6"
  }
 },
 "nbformat": 4,
 "nbformat_minor": 1
}
